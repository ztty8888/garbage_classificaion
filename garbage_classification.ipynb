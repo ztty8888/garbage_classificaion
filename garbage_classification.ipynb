{
 "cells": [
  {
   "cell_type": "markdown",
   "metadata": {
    "collapsed": false
   },
   "source": [
    "# **一、项目背景介绍**\n",
    "\n",
    "垃圾分类的意义在于增加对环境的保护和降低垃圾的处理成本。减少土地侵蚀、提高经济价值、减少环境污染、保护生态环境变废为宝，有效利用资源；提高垃圾的资源价值和经济价值，力争物尽其用;可以减少垃圾处理量和处理设备，降低处理成本，减少土地资源的消耗;具有社会、经济、生态等几方面的效益。我们可以将模型部署在相关的硬件上来实现落地应用。\n"
   ]
  },
  {
   "cell_type": "code",
   "execution_count": null,
   "metadata": {
    "collapsed": false
   },
   "outputs": [],
   "source": []
  },
  {
   "cell_type": "markdown",
   "metadata": {
    "collapsed": false
   },
   "source": [
    "# **二、数据介绍**\n",
    "\n",
    "\n",
    "数据集来源： [垃圾分类](https://aistudio.baidu.com/aistudio/datasetdetail/108025)\n",
    "\n",
    "归类领域：计算机视觉、分类任务\n",
    "\n",
    "数据类型：图片、文件\n",
    "\n",
    "保存格式：jpg,txt\n",
    "\n",
    "垃圾分类数据集 包含6个分类：纸板（393），玻璃（491），金属（400），纸（584），塑料（472）和垃圾（127）。\n",
    "\n",
    "![](https://ai-studio-static-online.cdn.bcebos.com/d4b70d1cf5d9436499037eaa3e77589c41dbcadee9f74d17bc8b91b3989f047c)\n",
    "\n",
    "![](https://ai-studio-static-online.cdn.bcebos.com/f5816c7699cf4239ad102fc07b24095b27cdf0c30dfa41f1a86758e9168d92bd)\n",
    "\n",
    "![](https://ai-studio-static-online.cdn.bcebos.com/d728c04b91f6413297337542eedc064a8168d3d237424855ab6c5092c800afe4)\n",
    "\n",
    "![](https://ai-studio-static-online.cdn.bcebos.com/96ae98316156427b992b1f958c23253a5038b785d4bb4a9e9cb741511e6da891)\n",
    "\n",
    "![](https://ai-studio-static-online.cdn.bcebos.com/0f0d4d4adfd24dd388c6d408bcb0d4fa39badfbebdf94cf7ae6e8b2c5023f8e0)\n",
    "\n",
    "![](https://ai-studio-static-online.cdn.bcebos.com/4c70fd7d359043429d33e1b64846eb37525cc034a8664e01af08693fbac37fca)\n"
   ]
  },
  {
   "cell_type": "markdown",
   "metadata": {
    "collapsed": false
   },
   "source": [
    "## **2.1 解压数据集**\n",
    "\n",
    "解压后把Garbage classification改为 Garbage_classification"
   ]
  },
  {
   "cell_type": "code",
   "execution_count": 7,
   "metadata": {
    "collapsed": false
   },
   "outputs": [
    {
     "name": "stdout",
     "output_type": "stream",
     "text": [
      "work/laji\r\n",
      "├── garbage classification\r\n",
      "│   └── Garbage classification\r\n",
      "│       ├── cardboard\r\n",
      "│       ├── glass\r\n",
      "│       ├── metal\r\n",
      "│       ├── paper\r\n",
      "│       ├── plastic\r\n",
      "│       └── trash\r\n",
      "└── Garbage classification\r\n",
      "    └── Garbage classification\r\n",
      "        ├── cardboard\r\n",
      "        ├── glass\r\n",
      "        ├── metal\r\n",
      "        ├── paper\r\n",
      "        ├── plastic\r\n",
      "        └── trash\r\n",
      "\r\n",
      "16 directories\r\n"
     ]
    }
   ],
   "source": [
    "# 样例：解压你所挂载的数据集在同级目录下\r\n",
    "!unzip -oq /home/aistudio/data/data128034/垃圾分类.zip  -d work/laji\r\n",
    "# 查看数据集的目录结构\r\n",
    "!tree work/laji -d"
   ]
  },
  {
   "cell_type": "markdown",
   "metadata": {
    "collapsed": false
   },
   "source": [
    "## **2.2 划分数据集**\n",
    "\n",
    "'train'： 'val'： 'test'=0.8：0.1,0.1"
   ]
  },
  {
   "cell_type": "code",
   "execution_count": 10,
   "metadata": {
    "collapsed": false
   },
   "outputs": [
    {
     "name": "stdout",
     "output_type": "stream",
     "text": [
      "开始数据集划分\n",
      "*********************************paper*************************************\n",
      "paper类按照0.8：0.1：0.1的比例划分完成，一共594张图片\n",
      "训练集work/laji/Garbage_classification/train/paper：476张\n",
      "验证集work/laji/Garbage_classification/val/paper：59张\n",
      "测试集work/laji/Garbage_classification/test/paper：59张\n",
      "*********************************trash*************************************\n",
      "trash类按照0.8：0.1：0.1的比例划分完成，一共137张图片\n",
      "训练集work/laji/Garbage_classification/train/trash：110张\n",
      "验证集work/laji/Garbage_classification/val/trash：14张\n",
      "测试集work/laji/Garbage_classification/test/trash：13张\n",
      "*********************************glass*************************************\n",
      "glass类按照0.8：0.1：0.1的比例划分完成，一共501张图片\n",
      "训练集work/laji/Garbage_classification/train/glass：401张\n",
      "验证集work/laji/Garbage_classification/val/glass：50张\n",
      "测试集work/laji/Garbage_classification/test/glass：50张\n",
      "*********************************plastic*************************************\n",
      "plastic类按照0.8：0.1：0.1的比例划分完成，一共482张图片\n",
      "训练集work/laji/Garbage_classification/train/plastic：386张\n",
      "验证集work/laji/Garbage_classification/val/plastic：48张\n",
      "测试集work/laji/Garbage_classification/test/plastic：48张\n",
      "*********************************cardboard*************************************\n",
      "cardboard类按照0.8：0.1：0.1的比例划分完成，一共403张图片\n",
      "训练集work/laji/Garbage_classification/train/cardboard：323张\n",
      "验证集work/laji/Garbage_classification/val/cardboard：40张\n",
      "测试集work/laji/Garbage_classification/test/cardboard：40张\n",
      "*********************************metal*************************************\n",
      "metal类按照0.8：0.1：0.1的比例划分完成，一共410张图片\n",
      "训练集work/laji/Garbage_classification/train/metal：329张\n",
      "验证集work/laji/Garbage_classification/val/metal：41张\n",
      "测试集work/laji/Garbage_classification/test/metal：40张\n"
     ]
    }
   ],
   "source": [
    "import os\r\n",
    "import random\r\n",
    "import shutil\r\n",
    "from shutil import copy2\r\n",
    "\r\n",
    "def data_set_split(src_data_folder, target_data_folder, train_scale=0.8, val_scale=0.1, test_scale=0.1):\r\n",
    "    print(\"开始数据集划分\")\r\n",
    "    class_names = os.listdir(src_data_folder)\r\n",
    "    split_names = ['train', 'val', 'test']\r\n",
    "    for split_name in split_names:\r\n",
    "        split_path = os.path.join(target_data_folder, split_name)\r\n",
    "        if os.path.isdir(split_path):\r\n",
    "            pass\r\n",
    "        else:\r\n",
    "            os.mkdir(split_path)\r\n",
    "        for class_name in class_names:\r\n",
    "            class_split_path = os.path.join(split_path, class_name)\r\n",
    "            if os.path.isdir(class_split_path):\r\n",
    "                pass\r\n",
    "            else:\r\n",
    "                os.mkdir(class_split_path)\r\n",
    "\r\n",
    "    for class_name in class_names:\r\n",
    "        current_class_data_path = os.path.join(src_data_folder, class_name)\r\n",
    "        current_all_data = os.listdir(current_class_data_path)\r\n",
    "        current_data_length = len(current_all_data)\r\n",
    "        current_data_index_list = list(range(current_data_length))\r\n",
    "        random.shuffle(current_data_index_list)\r\n",
    "\r\n",
    "        train_folder = os.path.join(os.path.join(target_data_folder, 'train'), class_name)\r\n",
    "        val_folder = os.path.join(os.path.join(target_data_folder, 'val'), class_name)\r\n",
    "        test_folder = os.path.join(os.path.join(target_data_folder, 'test'), class_name)\r\n",
    "        train_stop_flag = current_data_length * train_scale\r\n",
    "        val_stop_flag = current_data_length * (train_scale + val_scale)\r\n",
    "        current_idx = 0\r\n",
    "        train_num = 0\r\n",
    "        val_num = 0\r\n",
    "        test_num = 0\r\n",
    "        for i in current_data_index_list:\r\n",
    "            src_img_path = os.path.join(current_class_data_path, current_all_data[i])\r\n",
    "            if current_idx <= train_stop_flag:\r\n",
    "                copy2(src_img_path, train_folder)\r\n",
    "                train_num = train_num + 1\r\n",
    "            elif (current_idx > train_stop_flag) and (current_idx <= val_stop_flag):\r\n",
    "                copy2(src_img_path, val_folder)\r\n",
    "                val_num = val_num + 1\r\n",
    "            else:\r\n",
    "                copy2(src_img_path, test_folder)\r\n",
    "                test_num = test_num + 1\r\n",
    "            \r\n",
    "            current_idx = current_idx + 1\r\n",
    "\r\n",
    "        print(\"*********************************{}*************************************\".format(class_name))\r\n",
    "        print(\"{}类按照{}：{}：{}的比例划分完成，一共{}张图片\".format(class_name, train_scale, val_scale, test_scale, current_data_length))\r\n",
    "        print(\"训练集{}：{}张\".format(train_folder, train_num))\r\n",
    "        print(\"验证集{}：{}张\".format(val_folder, val_num))\r\n",
    "        print(\"测试集{}：{}张\".format(test_folder, test_num))\r\n",
    "\r\n",
    "\r\n",
    "if __name__ == '__main__':\r\n",
    "    src_data_folder = \"work/laji/Garbage_classification/Garbage_classification\"\r\n",
    "    target_data_folder = \"work/laji/Garbage_classification\"\r\n",
    "    data_set_split(src_data_folder, target_data_folder)"
   ]
  },
  {
   "cell_type": "markdown",
   "metadata": {
    "collapsed": false
   },
   "source": [
    "# **三、定义部分超参数**"
   ]
  },
  {
   "cell_type": "code",
   "execution_count": 11,
   "metadata": {
    "collapsed": false
   },
   "outputs": [
    {
     "name": "stdout",
     "output_type": "stream",
     "text": [
      "训练集样本量: 127，验证集样本量: 16\n"
     ]
    }
   ],
   "source": [
    "import paddle\r\n",
    "paddle.seed(8888)\r\n",
    "import numpy as np\r\n",
    "from typing import Callable\r\n",
    "#参数配置\r\n",
    "config_parameters = {\r\n",
    "    \"class_dim\": 6,  #分类数\r\n",
    "    \"target_path\":\"/home/aistudio/work/laji/\",                     \r\n",
    "    'train_image_dir': 'work/laji/Garbage_classification/train',\r\n",
    "    'eval_image_dir': 'work/laji/Garbage_classification/val',\r\n",
    "    'epochs':50,\r\n",
    "    'batch_size': 64,\r\n",
    "    'lr': 0.01\r\n",
    "}\r\n",
    "#数据集的定义\r\n",
    "class TowerDataset(paddle.io.Dataset):\r\n",
    "    \"\"\"\r\n",
    "    步骤一：继承paddle.io.Dataset类\r\n",
    "    \"\"\"\r\n",
    "    def __init__(self, transforms: Callable, mode: str ='train'):\r\n",
    "        \"\"\"\r\n",
    "        步骤二：实现构造函数，定义数据读取方式\r\n",
    "        \"\"\"\r\n",
    "        super(TowerDataset, self).__init__()\r\n",
    "        \r\n",
    "        self.mode = mode\r\n",
    "        self.transforms = transforms\r\n",
    "\r\n",
    "        train_image_dir = config_parameters['train_image_dir']\r\n",
    "        eval_image_dir = config_parameters['eval_image_dir']\r\n",
    "\r\n",
    "        train_data_folder = paddle.vision.DatasetFolder(train_image_dir)\r\n",
    "        eval_data_folder = paddle.vision.DatasetFolder(eval_image_dir)\r\n",
    "        if self.mode  == 'train':\r\n",
    "            self.data = train_data_folder\r\n",
    "        elif self.mode  == 'eval':\r\n",
    "            self.data = eval_data_folder\r\n",
    "\r\n",
    "    def __getitem__(self, index):\r\n",
    "        \"\"\"\r\n",
    "        步骤三：实现__getitem__方法，定义指定index时如何获取数据，并返回单条数据（训练数据，对应的标签）\r\n",
    "        \"\"\"\r\n",
    "        data = np.array(self.data[index][0]).astype('float32')\r\n",
    "\r\n",
    "        data = self.transforms(data)\r\n",
    "\r\n",
    "        label = np.array([self.data[index][1]]).astype('int64')\r\n",
    "        \r\n",
    "        return data, label\r\n",
    "        \r\n",
    "    def __len__(self):\r\n",
    "        \"\"\"\r\n",
    "        步骤四：实现__len__方法，返回数据集总数目\r\n",
    "        \"\"\"\r\n",
    "        return len(self.data)\r\n",
    "\r\n",
    "\r\n",
    "from paddle.vision import transforms as T\r\n",
    "\r\n",
    "#数据增强\r\n",
    "transform_train =T.Compose([T.Resize((256,256)),\r\n",
    "                            #T.RandomVerticalFlip(10),\r\n",
    "                            #T.RandomHorizontalFlip(10),\r\n",
    "                            T.RandomRotation(10),\r\n",
    "                            T.Transpose(),\r\n",
    "                            T.Normalize(mean=[0, 0, 0],                           # 像素值归一化\r\n",
    "                                        std =[255, 255, 255]),                    # transforms.ToTensor(), # transpose操作 + (img / 255),并且数据结构变为PaddleTensor\r\n",
    "                            T.Normalize(mean=[0.50950350, 0.54632660, 0.57409690],# 减均值 除标准差    \r\n",
    "                                        std= [0.26059777, 0.26041326, 0.29220656])# 计算过程：output[channel] = (input[channel] - mean[channel]) / std[channel]\r\n",
    "                            ])\r\n",
    "transform_eval =T.Compose([ T.Resize((256,256)),\r\n",
    "                            T.Transpose(),\r\n",
    "                            T.Normalize(mean=[0, 0, 0],                           # 像素值归一化\r\n",
    "                                        std =[255, 255, 255]),                    # transforms.ToTensor(), # transpose操作 + (img / 255),并且数据结构变为PaddleTensor\r\n",
    "                            T.Normalize(mean=[0.50950350, 0.54632660, 0.57409690],# 减均值 除标准差    \r\n",
    "                                        std= [0.26059777, 0.26041326, 0.29220656])# 计算过程：output[channel] = (input[channel] - mean[channel]) / std[channel]\r\n",
    "                            ])\r\n",
    "\r\n",
    "train_dataset = TowerDataset(mode='train',transforms=transform_train)\r\n",
    "eval_dataset  = TowerDataset(mode='eval', transforms=transform_eval )\r\n",
    "#数据异步加载\r\n",
    "train_loader = paddle.io.DataLoader(train_dataset, \r\n",
    "                                    places=paddle.CUDAPlace(0), \r\n",
    "                                    batch_size=16, \r\n",
    "                                    shuffle=True,\r\n",
    "                                    #num_workers=2,\r\n",
    "                                    #use_shared_memory=True\r\n",
    "                                    )\r\n",
    "eval_loader = paddle.io.DataLoader (eval_dataset, \r\n",
    "                                    places=paddle.CUDAPlace(0), \r\n",
    "                                    batch_size=16,\r\n",
    "                                    #num_workers=2,\r\n",
    "                                    #use_shared_memory=True\r\n",
    "                                    )\r\n",
    "\r\n",
    "print('训练集样本量: {}，验证集样本量: {}'.format(len(train_loader), len(eval_loader)))"
   ]
  },
  {
   "cell_type": "markdown",
   "metadata": {
    "collapsed": false
   },
   "source": [
    "# **四、模型介绍——MobileViT组网**\n",
    "\n",
    "MobileViT：一种用于移动设备的轻量级通用视觉Transformer，据作者称，这是首个能比肩轻量级CNN网络性能的轻量级ViT工作，表现SOTA！性能优于MobileNetV3、CrossViT等网络。\n",
    "\n",
    "轻量级卷积神经网络 (CNN) 是移动视觉任务的de-facto。他们的空间归纳偏差使他们能够在不同的视觉任务中以较少的参数学习表示。然而，这些网络在空间上是局部的。为了学习全局表示，已经采用了基于自注意力的视觉Transformer（ViT）。与 CNN 不同，ViT 是\"重量级\"的。在本文中，我们提出以下问题：是否有可能结合 CNNs 和 ViTs 的优势，为移动视觉任务构建一个轻量级、低延迟的网络？为此，我们推出了 MobileViT，这是一种用于移动设备的轻量级通用视觉Transformer。\n",
    "\n",
    "结构上也非常简单，但是同样能够实现一个不错的精度表现\n",
    "\n",
    "原论文下载：https://arxiv.org/pdf/2110.02178.pdf\n",
    "\n",
    "MobileViT 与 Mobilenet 系列模型一样模型的结构都十分简单\n",
    "\n",
    "MobileViT带来了一些新的结果:\n",
    "\n",
    "1.更好的性能:在相同的参数情况下,余现有的轻量级CNN相比,mobilevit模型在不同的移动视觉任务中实现了更好的性能.\n",
    "\n",
    "2.更好的泛化能力:泛化能力是指训练和评价指标之间的差距.对于具有相似的训练指标的两个模型,具有更好评价指标的模型更具有通用性,因为它可以更好地预测未见的数据集.与CNN相比,即使有广泛的数据增强,其泛化能力也很差,mobilevit显示出更好的泛化能力(如下图).\n",
    "\n",
    "3.更好的鲁棒性:一个好的模型应该对超参数具有鲁棒性,因为调优这些超参数会消耗时间和资源.与大多数基于ViT的模型不同,mobilevit模型使用基于增强训练,与L2正则化不太敏感.\n",
    "\n",
    "![](https://ai-studio-static-online.cdn.bcebos.com/4090a9935e794caab9332f03b88ddcf76692c80b3086464faacb790b118d4063)\n"
   ]
  },
  {
   "cell_type": "code",
   "execution_count": 13,
   "metadata": {
    "collapsed": false
   },
   "outputs": [],
   "source": [
    "import paddle\r\n",
    "import paddle.nn as nn\r\n",
    "\r\n",
    "\r\n",
    "\r\n",
    "\r\n",
    "def conv_1x1_bn(inp, oup):\r\n",
    "    return nn.Sequential(\r\n",
    "        nn.Conv2D(inp, oup, 1, 1, 0, bias_attr=False),\r\n",
    "        nn.BatchNorm2D(oup),\r\n",
    "        nn.Silu()\r\n",
    "    )\r\n",
    "\r\n",
    "\r\n",
    "def conv_nxn_bn(inp, oup, kernal_size=3, stride=1):\r\n",
    "    return nn.Sequential(\r\n",
    "        nn.Conv2D(inp, oup, kernal_size, stride, 1, bias_attr=False),\r\n",
    "        nn.BatchNorm2D(oup),\r\n",
    "        nn.Silu()\r\n",
    "    )\r\n",
    "\r\n",
    "\r\n",
    "class PreNorm(nn.Layer):\r\n",
    "    def __init__(self, axis, fn):\r\n",
    "        super().__init__()\r\n",
    "        self.norm = nn.LayerNorm(axis)\r\n",
    "        self.fn = fn\r\n",
    "    \r\n",
    "    def forward(self, x, **kwargs):\r\n",
    "        return self.fn(self.norm(x), **kwargs)\r\n",
    "\r\n",
    "\r\n",
    "class FeedForward(nn.Layer):\r\n",
    "    def __init__(self, axis, hidden_axis, dropout=0.):\r\n",
    "        super().__init__()\r\n",
    "        self.net = nn.Sequential(\r\n",
    "            nn.Linear(axis, hidden_axis),\r\n",
    "            nn.Silu(),\r\n",
    "            nn.Dropout(dropout),\r\n",
    "            nn.Linear(hidden_axis, axis),\r\n",
    "            nn.Dropout(dropout)\r\n",
    "        )\r\n",
    "    \r\n",
    "    def forward(self, x):\r\n",
    "        return self.net(x)\r\n",
    "\r\n",
    "\r\n",
    "class Attention(nn.Layer):\r\n",
    "    def __init__(self, axis, heads=8, axis_head=64, dropout=0.):\r\n",
    "        super().__init__()\r\n",
    "        inner_axis = axis_head *  heads\r\n",
    "        project_out = not (heads == 1 and axis_head == axis)\r\n",
    "\r\n",
    "        self.heads = heads\r\n",
    "        self.scale = axis_head ** -0.5\r\n",
    "\r\n",
    "        self.attend = nn.Softmax(axis = -1)\r\n",
    "        self.to_qkv = nn.Linear(axis, inner_axis * 3, bias_attr = False)\r\n",
    "\r\n",
    "        self.to_out = nn.Sequential(\r\n",
    "            nn.Linear(inner_axis, axis),\r\n",
    "            nn.Dropout(dropout)\r\n",
    "        ) if project_out else nn.Identity()\r\n",
    "\r\n",
    "    def forward(self, x):\r\n",
    " \r\n",
    "        q,k,v = self.to_qkv(x).chunk(3, axis=-1)\r\n",
    "\r\n",
    "        b,p,n,hd = q.shape\r\n",
    "        b,p,n,hd = k.shape\r\n",
    "        b,p,n,hd = v.shape\r\n",
    "        q = q.reshape((b, p, n, self.heads, -1)).transpose((0, 1, 3, 2, 4))\r\n",
    "        k = k.reshape((b, p, n, self.heads, -1)).transpose((0, 1, 3, 2, 4))\r\n",
    "        v = v.reshape((b, p, n, self.heads, -1)).transpose((0, 1, 3, 2, 4))\r\n",
    "\r\n",
    "        dots = paddle.matmul(q, k.transpose((0, 1, 2, 4, 3))) * self.scale\r\n",
    "        attn = self.attend(dots)\r\n",
    "\r\n",
    "        out = (attn.matmul(v)).transpose((0, 1, 3, 2, 4)).reshape((b, p, n,-1))\r\n",
    "        return self.to_out(out)\r\n",
    "\r\n",
    "\r\n",
    "\r\n",
    "class Transformer(nn.Layer):\r\n",
    "    def __init__(self, axis, depth, heads, axis_head, mlp_axis, dropout=0.):\r\n",
    "        super().__init__()\r\n",
    "        self.layers = nn.LayerList([])\r\n",
    "        for _ in range(depth):\r\n",
    "            self.layers.append(nn.LayerList([\r\n",
    "                PreNorm(axis, Attention(axis, heads, axis_head, dropout)),\r\n",
    "                PreNorm(axis, FeedForward(axis, mlp_axis, dropout))\r\n",
    "            ]))\r\n",
    "    \r\n",
    "    def forward(self, x):\r\n",
    "        for attn, ff in self.layers:\r\n",
    "            x = attn(x) + x\r\n",
    "            x = ff(x) + x\r\n",
    "        return x\r\n",
    "\r\n",
    "\r\n",
    "class MV2Block(nn.Layer):\r\n",
    "    def __init__(self, inp, oup, stride=1, expansion=4):\r\n",
    "        super().__init__()\r\n",
    "        self.stride = stride\r\n",
    "        assert stride in [1, 2]\r\n",
    "\r\n",
    "        hidden_axis = int(inp * expansion)\r\n",
    "        self.use_res_connect = self.stride == 1 and inp == oup\r\n",
    "\r\n",
    "        if expansion == 1:\r\n",
    "            self.conv = nn.Sequential(\r\n",
    "                # dw\r\n",
    "                nn.Conv2D(hidden_axis, hidden_axis, 3, stride, 1, groups=hidden_axis, bias_attr=False),\r\n",
    "                nn.BatchNorm2D(hidden_axis),\r\n",
    "                nn.Silu(),\r\n",
    "                # pw-linear\r\n",
    "                nn.Conv2D(hidden_axis, oup, 1, 1, 0, bias_attr=False),\r\n",
    "                nn.BatchNorm2D(oup),\r\n",
    "            )\r\n",
    "        else:\r\n",
    "            self.conv = nn.Sequential(\r\n",
    "                # pw\r\n",
    "                nn.Conv2D(inp, hidden_axis, 1, 1, 0, bias_attr=False),\r\n",
    "                nn.BatchNorm2D(hidden_axis),\r\n",
    "                nn.Silu(),\r\n",
    "                # dw\r\n",
    "                nn.Conv2D(hidden_axis, hidden_axis, 3, stride, 1, groups=hidden_axis, bias_attr=False),\r\n",
    "                nn.BatchNorm2D(hidden_axis),\r\n",
    "                nn.Silu(),\r\n",
    "                # pw-linear\r\n",
    "                nn.Conv2D(hidden_axis, oup, 1, 1, 0, bias_attr=False),\r\n",
    "                nn.BatchNorm2D(oup),\r\n",
    "            )\r\n",
    "\r\n",
    "    def forward(self, x):\r\n",
    "        if self.use_res_connect:\r\n",
    "            return x + self.conv(x)\r\n",
    "        else:\r\n",
    "            return self.conv(x)\r\n",
    "\r\n",
    "\r\n",
    "class MobileViTBlock(nn.Layer):\r\n",
    "    def __init__(self, axis, depth, channel, kernel_size, patch_size, mlp_axis, dropout=0.):\r\n",
    "        super().__init__()\r\n",
    "        self.ph, self.pw = patch_size\r\n",
    "\r\n",
    "        self.conv1 = conv_nxn_bn(channel, channel, kernel_size)\r\n",
    "        self.conv2 = conv_1x1_bn(channel, axis)\r\n",
    "\r\n",
    "        self.transformer = Transformer(axis, depth, 1, 32, mlp_axis, dropout)\r\n",
    "\r\n",
    "        self.conv3 = conv_1x1_bn(axis, channel)\r\n",
    "        self.conv4 = conv_nxn_bn(2 * channel, channel, kernel_size)\r\n",
    "    \r\n",
    "    def forward(self, x):\r\n",
    "        y = x.clone()\r\n",
    "\r\n",
    "        # Local representations\r\n",
    "        x = self.conv1(x)\r\n",
    "        x = self.conv2(x)\r\n",
    "        \r\n",
    "        # Global representations\r\n",
    "        n, c, h, w = x.shape\r\n",
    "\r\n",
    "        x = x.transpose((0,3,1,2)).reshape((n,self.ph * self.pw,-1,c))\r\n",
    "        x = self.transformer(x)\r\n",
    "        x = x.reshape((n,h,-1,c)).transpose((0,3,1,2))\r\n",
    "\r\n",
    "\r\n",
    "        # Fusion\r\n",
    "        x = self.conv3(x)\r\n",
    "        x = paddle.concat((x, y), 1)\r\n",
    "        x = self.conv4(x)\r\n",
    "        return x\r\n",
    "\r\n",
    "\r\n",
    "class MobileViT(nn.Layer):\r\n",
    "    def __init__(self, image_size, axiss, channels, num_classes, expansion=4, kernel_size=3, patch_size=(2, 2)):\r\n",
    "        super().__init__()\r\n",
    "        ih, iw = image_size\r\n",
    "        ph, pw = patch_size\r\n",
    "        assert ih % ph == 0 and iw % pw == 0\r\n",
    "\r\n",
    "        L = [2, 4, 3]\r\n",
    "\r\n",
    "        self.conv1 = conv_nxn_bn(3, channels[0], stride=2)\r\n",
    "\r\n",
    "        self.mv2 = nn.LayerList([])\r\n",
    "        self.mv2.append(MV2Block(channels[0], channels[1], 1, expansion))\r\n",
    "        self.mv2.append(MV2Block(channels[1], channels[2], 2, expansion))\r\n",
    "        self.mv2.append(MV2Block(channels[2], channels[3], 1, expansion))\r\n",
    "        self.mv2.append(MV2Block(channels[2], channels[3], 1, expansion))   # Repeat\r\n",
    "        self.mv2.append(MV2Block(channels[3], channels[4], 2, expansion))\r\n",
    "        self.mv2.append(MV2Block(channels[5], channels[6], 2, expansion))\r\n",
    "        self.mv2.append(MV2Block(channels[7], channels[8], 2, expansion))\r\n",
    "        \r\n",
    "        self.mvit = nn.LayerList([])\r\n",
    "        self.mvit.append(MobileViTBlock(axiss[0], L[0], channels[5], kernel_size, patch_size, int(axiss[0]*2)))\r\n",
    "        self.mvit.append(MobileViTBlock(axiss[1], L[1], channels[7], kernel_size, patch_size, int(axiss[1]*4)))\r\n",
    "        self.mvit.append(MobileViTBlock(axiss[2], L[2], channels[9], kernel_size, patch_size, int(axiss[2]*4)))\r\n",
    "\r\n",
    "        self.conv2 = conv_1x1_bn(channels[-2], channels[-1])\r\n",
    "\r\n",
    "        self.pool = nn.AvgPool2D(ih//32, 1)\r\n",
    "        self.fc = nn.Linear(channels[-1], num_classes, bias_attr=False)\r\n",
    "\r\n",
    "    def forward(self, x):\r\n",
    "        x = self.conv1(x)\r\n",
    "        x = self.mv2[0](x)\r\n",
    "\r\n",
    "        x = self.mv2[1](x)\r\n",
    "        x = self.mv2[2](x)\r\n",
    "        x = self.mv2[3](x)      # Repeat\r\n",
    "\r\n",
    "        x = self.mv2[4](x)\r\n",
    "        x = self.mvit[0](x)\r\n",
    "\r\n",
    "        x = self.mv2[5](x)\r\n",
    "        x = self.mvit[1](x)\r\n",
    "\r\n",
    "        x = self.mv2[6](x)\r\n",
    "        x = self.mvit[2](x)\r\n",
    "        x = self.conv2(x)\r\n",
    "\r\n",
    "        x = self.pool(x)\r\n",
    "        x = x.reshape((-1, x.shape[1]))\r\n",
    "        x = self.fc(x)\r\n",
    "        return x\r\n",
    "\r\n",
    "\r\n",
    "def mobilevit_xxs():\r\n",
    "    axiss = [64, 80, 96]\r\n",
    "    channels = [16, 16, 24, 24, 48, 48, 64, 64, 80, 80, 320]\r\n",
    "    return MobileViT((256, 256), axiss, channels, num_classes=1000, expansion=2)\r\n",
    "\r\n",
    "\r\n",
    "def mobilevit_xs():\r\n",
    "    axiss = [96, 120, 144]\r\n",
    "    channels = [16, 32, 48, 48, 64, 64, 80, 80, 96, 96, 384]\r\n",
    "    return MobileViT((256, 256), axiss, channels, num_classes=1000)\r\n",
    "\r\n",
    "\r\n",
    "def mobilevit_s():\r\n",
    "    axiss = [144, 192, 240]\r\n",
    "    channels = [16, 32, 64, 64, 96, 96, 128, 128, 160, 160, 640]\r\n",
    "    return MobileViT((256, 256), axiss, channels, num_classes=6)\r\n",
    "\r\n",
    "\r\n",
    "def count_parameters(model):\r\n",
    "    return sum(p.numel() for p in model.parameters() if p.requires_grad)\r\n"
   ]
  },
  {
   "cell_type": "markdown",
   "metadata": {
    "collapsed": false
   },
   "source": [
    "## **4.1 模型测试**"
   ]
  },
  {
   "cell_type": "code",
   "execution_count": 14,
   "metadata": {
    "collapsed": false
   },
   "outputs": [
    {
     "name": "stderr",
     "output_type": "stream",
     "text": [
      "W0226 12:44:54.582399   101 device_context.cc:447] Please NOTE: device: 0, GPU Compute Capability: 7.0, Driver API Version: 10.1, Runtime API Version: 10.1\n",
      "W0226 12:44:54.593559   101 device_context.cc:465] device: 0, cuDNN Version: 7.6.\n",
      "/opt/conda/envs/python35-paddle120-env/lib/python3.7/site-packages/paddle/nn/layer/norm.py:653: UserWarning: When training, we now always track global mean and variance.\n",
      "  \"When training, we now always track global mean and variance.\")\n"
     ]
    },
    {
     "name": "stdout",
     "output_type": "stream",
     "text": [
      "[5, 1000]\n",
      "[5, 1000]\n",
      "[5, 6]\n"
     ]
    }
   ],
   "source": [
    "if __name__ == '__main__':\r\n",
    "    img = paddle.rand([5, 3, 256, 256])\r\n",
    "\r\n",
    "    vit = mobilevit_xxs()\r\n",
    "    out = vit(img)\r\n",
    "    print(out.shape)\r\n",
    "\r\n",
    "\r\n",
    "    vit = mobilevit_xs()\r\n",
    "    out = vit(img)\r\n",
    "    print(out.shape)\r\n",
    "\r\n",
    "\r\n",
    "    vit = mobilevit_s()\r\n",
    "    out = vit(img)\r\n",
    "    print(out.shape)"
   ]
  },
  {
   "cell_type": "markdown",
   "metadata": {
    "collapsed": false
   },
   "source": [
    "# **五、模型训练**\n",
    "\n",
    "## **5.1实例化模型**"
   ]
  },
  {
   "cell_type": "code",
   "execution_count": 15,
   "metadata": {
    "collapsed": false
   },
   "outputs": [],
   "source": [
    "model = mobilevit_s()\r\n",
    "model = paddle.Model(model)"
   ]
  },
  {
   "cell_type": "code",
   "execution_count": 16,
   "metadata": {
    "collapsed": false
   },
   "outputs": [],
   "source": [
    "#优化器选择\r\n",
    "class SaveBestModel(paddle.callbacks.Callback):\r\n",
    "    def __init__(self, target=0.5, path='work/best_model2', verbose=0):\r\n",
    "        self.target = target\r\n",
    "        self.epoch = None\r\n",
    "        self.path = path\r\n",
    "\r\n",
    "    def on_epoch_end(self, epoch, logs=None):\r\n",
    "        self.epoch = epoch\r\n",
    "\r\n",
    "    def on_eval_end(self, logs=None):\r\n",
    "        if logs.get('acc') > self.target:\r\n",
    "            self.target = logs.get('acc')\r\n",
    "            self.model.save(self.path)\r\n",
    "            print('best acc is {} at epoch {}'.format(self.target, self.epoch))\r\n",
    "\r\n",
    "callback_visualdl = paddle.callbacks.VisualDL(log_dir='work/no_SA')\r\n",
    "callback_savebestmodel = SaveBestModel(target=0.5, path='work/best_model1')\r\n",
    "callbacks = [callback_visualdl, callback_savebestmodel]\r\n",
    "\r\n",
    "base_lr = config_parameters['lr']\r\n",
    "epochs = config_parameters['epochs']\r\n",
    "\r\n",
    "def make_optimizer(parameters=None):\r\n",
    "    momentum = 0.9\r\n",
    "\r\n",
    "    learning_rate= paddle.optimizer.lr.CosineAnnealingDecay(learning_rate=base_lr, T_max=epochs, verbose=False)\r\n",
    "    weight_decay=paddle.regularizer.L2Decay(0.0001)\r\n",
    "    optimizer = paddle.optimizer.Momentum(\r\n",
    "        learning_rate=learning_rate,\r\n",
    "        momentum=momentum,\r\n",
    "        weight_decay=weight_decay,\r\n",
    "        parameters=parameters)\r\n",
    "    return optimizer\r\n",
    "\r\n",
    "optimizer = make_optimizer(model.parameters())\r\n",
    "\r\n",
    "\r\n",
    "model.prepare(optimizer,\r\n",
    "              paddle.nn.CrossEntropyLoss(),\r\n",
    "              paddle.metric.Accuracy())"
   ]
  },
  {
   "cell_type": "markdown",
   "metadata": {
    "collapsed": false
   },
   "source": [
    "## **5.2 训练模型需要说明：**\n",
    "\n",
    "**lr_schedule:** CosineAnnealingDecay\n",
    "\n",
    "**optimize:** Momentum\n",
    "\n",
    "**epoch:** 50\n",
    " \n",
    "**batch_size:** 64\n",
    "\n",
    "**Loss function:** CrossEntropyLoss"
   ]
  },
  {
   "cell_type": "code",
   "execution_count": 17,
   "metadata": {
    "collapsed": false
   },
   "outputs": [
    {
     "name": "stdout",
     "output_type": "stream",
     "text": [
      "The loss value printed in the log is the current step, and the metric is the average value of previous steps.\n",
      "Epoch 1/50\n"
     ]
    },
    {
     "name": "stderr",
     "output_type": "stream",
     "text": [
      "/opt/conda/envs/python35-paddle120-env/lib/python3.7/site-packages/paddle/fluid/layers/utils.py:77: DeprecationWarning: Using or importing the ABCs from 'collections' instead of from 'collections.abc' is deprecated, and in 3.8 it will stop working\n",
      "  return (isinstance(seq, collections.Sequence) and\n"
     ]
    },
    {
     "name": "stdout",
     "output_type": "stream",
     "text": [
      "step 127/127 [==============================] - loss: 0.9921 - acc: 0.4785 - 160ms/step         \n",
      "Eval begin...\n",
      "step 16/16 [==============================] - loss: 3.0617 - acc: 0.5159 - 149ms/step         \n",
      "Eval samples: 252\n",
      "best acc is 0.5158730158730159 at epoch 0\n",
      "Epoch 2/50\n",
      "step 127/127 [==============================] - loss: 0.5079 - acc: 0.5714 - 154ms/step         \n",
      "Eval begin...\n",
      "step 16/16 [==============================] - loss: 1.5597 - acc: 0.6270 - 134ms/step         \n",
      "Eval samples: 252\n",
      "best acc is 0.626984126984127 at epoch 1\n",
      "Epoch 3/50\n",
      "step 127/127 [==============================] - loss: 1.3110 - acc: 0.5995 - 153ms/step         \n",
      "Eval begin...\n",
      "step 16/16 [==============================] - loss: 1.2476 - acc: 0.6429 - 133ms/step         \n",
      "Eval samples: 252\n",
      "best acc is 0.6428571428571429 at epoch 2\n",
      "Epoch 4/50\n",
      "step 127/127 [==============================] - loss: 0.6648 - acc: 0.6380 - 158ms/step         \n",
      "Eval begin...\n",
      "step 16/16 [==============================] - loss: 1.7209 - acc: 0.5675 - 132ms/step         \n",
      "Eval samples: 252\n",
      "Epoch 5/50\n",
      "step 127/127 [==============================] - loss: 1.1874 - acc: 0.6563 - 157ms/step         \n",
      "Eval begin...\n",
      "step 16/16 [==============================] - loss: 1.6133 - acc: 0.6429 - 130ms/step         \n",
      "Eval samples: 252\n",
      "Epoch 6/50\n",
      "step 127/127 [==============================] - loss: 0.9289 - acc: 0.6854 - 154ms/step         \n",
      "Eval begin...\n",
      "step 16/16 [==============================] - loss: 1.3293 - acc: 0.6865 - 130ms/step         \n",
      "Eval samples: 252\n",
      "best acc is 0.6865079365079365 at epoch 5\n",
      "Epoch 7/50\n",
      "step 127/127 [==============================] - loss: 0.7384 - acc: 0.6943 - 154ms/step         \n",
      "Eval begin...\n",
      "step 16/16 [==============================] - loss: 0.7852 - acc: 0.6032 - 130ms/step         \n",
      "Eval samples: 252\n",
      "Epoch 8/50\n",
      "step 127/127 [==============================] - loss: 1.6061 - acc: 0.7264 - 157ms/step         \n",
      "Eval begin...\n",
      "step 16/16 [==============================] - loss: 0.4986 - acc: 0.6944 - 130ms/step         \n",
      "Eval samples: 252\n",
      "best acc is 0.6944444444444444 at epoch 7\n",
      "Epoch 9/50\n",
      "step 127/127 [==============================] - loss: 0.9896 - acc: 0.7610 - 152ms/step         \n",
      "Eval begin...\n",
      "step 16/16 [==============================] - loss: 0.5544 - acc: 0.7063 - 130ms/step         \n",
      "Eval samples: 252\n",
      "best acc is 0.7063492063492064 at epoch 8\n",
      "Epoch 10/50\n",
      "step 127/127 [==============================] - loss: 0.5369 - acc: 0.7689 - 154ms/step         \n",
      "Eval begin...\n",
      "step 16/16 [==============================] - loss: 0.8893 - acc: 0.7103 - 130ms/step         \n",
      "Eval samples: 252\n",
      "best acc is 0.7103174603174603 at epoch 9\n",
      "Epoch 11/50\n",
      "step 127/127 [==============================] - loss: 0.8750 - acc: 0.7891 - 156ms/step         \n",
      "Eval begin...\n",
      "step 16/16 [==============================] - loss: 0.8423 - acc: 0.6190 - 127ms/step         \n",
      "Eval samples: 252\n",
      "Epoch 12/50\n",
      "step 127/127 [==============================] - loss: 1.2786 - acc: 0.7832 - 155ms/step         \n",
      "Eval begin...\n",
      "step 16/16 [==============================] - loss: 1.5781 - acc: 0.7024 - 138ms/step         \n",
      "Eval samples: 252\n",
      "Epoch 13/50\n",
      "step 127/127 [==============================] - loss: 0.4109 - acc: 0.8069 - 153ms/step         \n",
      "Eval begin...\n",
      "step 16/16 [==============================] - loss: 0.3971 - acc: 0.7460 - 138ms/step         \n",
      "Eval samples: 252\n",
      "best acc is 0.746031746031746 at epoch 12\n",
      "Epoch 14/50\n",
      "step 127/127 [==============================] - loss: 1.1973 - acc: 0.8178 - 154ms/step         \n",
      "Eval begin...\n",
      "step 16/16 [==============================] - loss: 1.0122 - acc: 0.7460 - 130ms/step         \n",
      "Eval samples: 252\n",
      "Epoch 15/50\n",
      "step 127/127 [==============================] - loss: 0.1630 - acc: 0.8242 - 154ms/step         \n",
      "Eval begin...\n",
      "step 16/16 [==============================] - loss: 0.6996 - acc: 0.7302 - 131ms/step         \n",
      "Eval samples: 252\n",
      "Epoch 16/50\n",
      "step 127/127 [==============================] - loss: 0.3381 - acc: 0.8415 - 159ms/step         \n",
      "Eval begin...\n",
      "step 16/16 [==============================] - loss: 1.1308 - acc: 0.7024 - 131ms/step         \n",
      "Eval samples: 252\n",
      "Epoch 17/50\n",
      "step 127/127 [==============================] - loss: 0.2470 - acc: 0.8400 - 154ms/step         \n",
      "Eval begin...\n",
      "step 16/16 [==============================] - loss: 0.6880 - acc: 0.7698 - 129ms/step         \n",
      "Eval samples: 252\n",
      "best acc is 0.7698412698412699 at epoch 16\n",
      "Epoch 18/50\n",
      "step 127/127 [==============================] - loss: 0.2109 - acc: 0.8583 - 155ms/step         \n",
      "Eval begin...\n",
      "step 16/16 [==============================] - loss: 0.5792 - acc: 0.7897 - 131ms/step         \n",
      "Eval samples: 252\n",
      "best acc is 0.7896825396825397 at epoch 17\n",
      "Epoch 19/50\n",
      "step 127/127 [==============================] - loss: 0.2365 - acc: 0.8677 - 160ms/step         \n",
      "Eval begin...\n",
      "step 16/16 [==============================] - loss: 1.4787 - acc: 0.5794 - 127ms/step         \n",
      "Eval samples: 252\n",
      "Epoch 20/50\n",
      "step 127/127 [==============================] - loss: 0.3634 - acc: 0.8444 - 154ms/step         \n",
      "Eval begin...\n",
      "step 16/16 [==============================] - loss: 0.6328 - acc: 0.7579 - 129ms/step         \n",
      "Eval samples: 252\n",
      "Epoch 21/50\n",
      "step 127/127 [==============================] - loss: 0.6545 - acc: 0.8889 - 154ms/step         \n",
      "Eval begin...\n",
      "step 16/16 [==============================] - loss: 0.3350 - acc: 0.7619 - 130ms/step         \n",
      "Eval samples: 252\n",
      "Epoch 22/50\n",
      "step 127/127 [==============================] - loss: 0.3918 - acc: 0.9052 - 154ms/step         \n",
      "Eval begin...\n",
      "step 16/16 [==============================] - loss: 2.1700 - acc: 0.6389 - 133ms/step         \n",
      "Eval samples: 252\n",
      "Epoch 23/50\n",
      "step 127/127 [==============================] - loss: 0.4210 - acc: 0.8854 - 155ms/step         \n",
      "Eval begin...\n",
      "step 16/16 [==============================] - loss: 1.2249 - acc: 0.6905 - 139ms/step         \n",
      "Eval samples: 252\n",
      "Epoch 24/50\n",
      "step 127/127 [==============================] - loss: 0.4640 - acc: 0.9017 - 155ms/step         \n",
      "Eval begin...\n",
      "step 16/16 [==============================] - loss: 0.8004 - acc: 0.7579 - 130ms/step         \n",
      "Eval samples: 252\n",
      "Epoch 25/50\n",
      "step 127/127 [==============================] - loss: 0.8252 - acc: 0.9037 - 156ms/step         \n",
      "Eval begin...\n",
      "step 16/16 [==============================] - loss: 0.5250 - acc: 0.8016 - 131ms/step         \n",
      "Eval samples: 252\n",
      "best acc is 0.8015873015873016 at epoch 24\n",
      "Epoch 26/50\n",
      "step 127/127 [==============================] - loss: 0.2347 - acc: 0.9126 - 156ms/step         \n",
      "Eval begin...\n",
      "step 16/16 [==============================] - loss: 1.6241 - acc: 0.7341 - 131ms/step         \n",
      "Eval samples: 252\n",
      "Epoch 27/50\n",
      "step 127/127 [==============================] - loss: 0.1988 - acc: 0.9067 - 153ms/step         \n",
      "Eval begin...\n",
      "step 16/16 [==============================] - loss: 0.9304 - acc: 0.7381 - 132ms/step         \n",
      "Eval samples: 252\n",
      "Epoch 28/50\n",
      "step 127/127 [==============================] - loss: 0.3173 - acc: 0.9225 - 152ms/step         \n",
      "Eval begin...\n",
      "step 16/16 [==============================] - loss: 0.5695 - acc: 0.7738 - 131ms/step         \n",
      "Eval samples: 252\n",
      "Epoch 29/50\n",
      "step 127/127 [==============================] - loss: 0.1067 - acc: 0.9363 - 196ms/step        \n",
      "Eval begin...\n",
      "step 16/16 [==============================] - loss: 0.8192 - acc: 0.7262 - 266ms/step         \n",
      "Eval samples: 252\n",
      "Epoch 30/50\n",
      "step 127/127 [==============================] - loss: 0.1226 - acc: 0.9235 - 159ms/step         \n",
      "Eval begin...\n",
      "step 16/16 [==============================] - loss: 0.6472 - acc: 0.7341 - 132ms/step         \n",
      "Eval samples: 252\n",
      "Epoch 31/50\n",
      "step 127/127 [==============================] - loss: 0.2043 - acc: 0.9333 - 155ms/step         \n",
      "Eval begin...\n",
      "step 16/16 [==============================] - loss: 0.5145 - acc: 0.7937 - 133ms/step         \n",
      "Eval samples: 252\n",
      "Epoch 32/50\n",
      "step 127/127 [==============================] - loss: 0.1612 - acc: 0.9328 - 157ms/step         \n",
      "Eval begin...\n",
      "step 16/16 [==============================] - loss: 0.2310 - acc: 0.7897 - 133ms/step         \n",
      "Eval samples: 252\n",
      "Epoch 33/50\n",
      "step 127/127 [==============================] - loss: 0.3547 - acc: 0.9452 - 158ms/step         \n",
      "Eval begin...\n",
      "step 16/16 [==============================] - loss: 0.1430 - acc: 0.8135 - 132ms/step         \n",
      "Eval samples: 252\n",
      "best acc is 0.8134920634920635 at epoch 32\n",
      "Epoch 34/50\n",
      "step 127/127 [==============================] - loss: 0.2088 - acc: 0.9472 - 154ms/step         \n",
      "Eval begin...\n",
      "step 16/16 [==============================] - loss: 0.0760 - acc: 0.7976 - 131ms/step         \n",
      "Eval samples: 252\n",
      "Epoch 35/50\n",
      "step 127/127 [==============================] - loss: 0.1186 - acc: 0.9506 - 152ms/step         \n",
      "Eval begin...\n",
      "step 16/16 [==============================] - loss: 0.9217 - acc: 0.7579 - 136ms/step         \n",
      "Eval samples: 252\n",
      "Epoch 36/50\n",
      "step 127/127 [==============================] - loss: 0.8777 - acc: 0.9610 - 152ms/step         \n",
      "Eval begin...\n",
      "step 16/16 [==============================] - loss: 0.3000 - acc: 0.7976 - 134ms/step         \n",
      "Eval samples: 252\n",
      "Epoch 37/50\n",
      "step 127/127 [==============================] - loss: 0.2458 - acc: 0.9506 - 158ms/step         \n",
      "Eval begin...\n",
      "step 16/16 [==============================] - loss: 0.6378 - acc: 0.7897 - 131ms/step         \n",
      "Eval samples: 252\n",
      "Epoch 38/50\n",
      "step 127/127 [==============================] - loss: 0.0612 - acc: 0.9664 - 155ms/step         \n",
      "Eval begin...\n",
      "step 16/16 [==============================] - loss: 1.0060 - acc: 0.7540 - 132ms/step         \n",
      "Eval samples: 252\n",
      "Epoch 39/50\n",
      "step 127/127 [==============================] - loss: 0.0625 - acc: 0.9709 - 157ms/step         \n",
      "Eval begin...\n",
      "step 16/16 [==============================] - loss: 1.1978 - acc: 0.7659 - 133ms/step         \n",
      "Eval samples: 252\n",
      "Epoch 40/50\n",
      "step 127/127 [==============================] - loss: 0.0895 - acc: 0.9546 - 155ms/step         \n",
      "Eval begin...\n",
      "step 16/16 [==============================] - loss: 0.3882 - acc: 0.8214 - 132ms/step         \n",
      "Eval samples: 252\n",
      "best acc is 0.8214285714285714 at epoch 39\n",
      "Epoch 41/50\n",
      "step 127/127 [==============================] - loss: 0.0152 - acc: 0.9551 - 156ms/step         \n",
      "Eval begin...\n",
      "step 16/16 [==============================] - loss: 0.9404 - acc: 0.7659 - 132ms/step         \n",
      "Eval samples: 252\n",
      "Epoch 42/50\n",
      "step 127/127 [==============================] - loss: 0.0526 - acc: 0.9575 - 155ms/step         \n",
      "Eval begin...\n",
      "step 16/16 [==============================] - loss: 1.3851 - acc: 0.7619 - 126ms/step         \n",
      "Eval samples: 252\n",
      "Epoch 43/50\n",
      "step 127/127 [==============================] - loss: 0.0533 - acc: 0.9640 - 157ms/step         \n",
      "Eval begin...\n",
      "step 16/16 [==============================] - loss: 0.2015 - acc: 0.8175 - 132ms/step         \n",
      "Eval samples: 252\n",
      "Epoch 44/50\n",
      "step 127/127 [==============================] - loss: 0.0223 - acc: 0.9585 - 157ms/step         \n",
      "Eval begin...\n",
      "step 16/16 [==============================] - loss: 0.7832 - acc: 0.7817 - 128ms/step         \n",
      "Eval samples: 252\n",
      "Epoch 45/50\n",
      "step 127/127 [==============================] - loss: 0.3739 - acc: 0.9526 - 154ms/step         \n",
      "Eval begin...\n",
      "step 16/16 [==============================] - loss: 0.6105 - acc: 0.7381 - 130ms/step         \n",
      "Eval samples: 252\n",
      "Epoch 46/50\n",
      "step 127/127 [==============================] - loss: 0.0931 - acc: 0.9511 - 155ms/step         \n",
      "Eval begin...\n",
      "step 16/16 [==============================] - loss: 1.0364 - acc: 0.7698 - 133ms/step         \n",
      "Eval samples: 252\n",
      "Epoch 47/50\n",
      "step 127/127 [==============================] - loss: 0.9378 - acc: 0.9610 - 158ms/step         \n",
      "Eval begin...\n",
      "step 16/16 [==============================] - loss: 0.0733 - acc: 0.7659 - 133ms/step         \n",
      "Eval samples: 252\n",
      "Epoch 48/50\n",
      "step 127/127 [==============================] - loss: 0.3155 - acc: 0.9654 - 155ms/step         \n",
      "Eval begin...\n",
      "step 16/16 [==============================] - loss: 0.1928 - acc: 0.7778 - 134ms/step         \n",
      "Eval samples: 252\n",
      "Epoch 49/50\n",
      "step 127/127 [==============================] - loss: 0.0611 - acc: 0.9659 - 160ms/step         \n",
      "Eval begin...\n",
      "step 16/16 [==============================] - loss: 0.3516 - acc: 0.7540 - 133ms/step         \n",
      "Eval samples: 252\n",
      "Epoch 50/50\n",
      "step 127/127 [==============================] - loss: 0.3301 - acc: 0.9783 - 158ms/step         \n",
      "Eval begin...\n",
      "step 16/16 [==============================] - loss: 0.6451 - acc: 0.7897 - 132ms/step         \n",
      "Eval samples: 252\n"
     ]
    }
   ],
   "source": [
    "model.fit(train_loader,\r\n",
    "          eval_loader,\r\n",
    "          epochs=50,\r\n",
    "          batch_size=64,     # 是否打乱样本集     \r\n",
    "          callbacks=callbacks, \r\n",
    "          verbose=1)   # 日志展示格式"
   ]
  },
  {
   "cell_type": "markdown",
   "metadata": {
    "collapsed": false
   },
   "source": [
    "# **六、模型评估**"
   ]
  },
  {
   "cell_type": "code",
   "execution_count": 21,
   "metadata": {
    "collapsed": false
   },
   "outputs": [
    {
     "name": "stdout",
     "output_type": "stream",
     "text": [
      "模型在验证集上的准确率为： 0.8203125\n"
     ]
    }
   ],
   "source": [
    "# 模型评估\r\n",
    "# 加载训练过程保存的最后一个模型\r\n",
    "model__state_dict = paddle.load('work/best_model1.pdparams')\r\n",
    "model_eval = mobilevit_s()\r\n",
    "model_eval.set_state_dict(model__state_dict) \r\n",
    "model_eval.eval()\r\n",
    "accs = []\r\n",
    "# 开始评估\r\n",
    "for _, data in enumerate(eval_loader()):\r\n",
    "    x_data = data[0]\r\n",
    "    y_data = data[1]\r\n",
    "    predicts = model_eval(x_data)\r\n",
    "    acc = paddle.metric.accuracy(predicts, y_data)\r\n",
    "    accs.append(acc.numpy()[0])\r\n",
    "print('模型在验证集上的准确率为：',np.mean(accs))"
   ]
  },
  {
   "cell_type": "markdown",
   "metadata": {
    "collapsed": false
   },
   "source": [
    "# **七、可视化测试模型效果**"
   ]
  },
  {
   "cell_type": "code",
   "execution_count": 24,
   "metadata": {
    "collapsed": false
   },
   "outputs": [
    {
     "name": "stderr",
     "output_type": "stream",
     "text": [
      "/opt/conda/envs/python35-paddle120-env/lib/python3.7/site-packages/matplotlib/__init__.py:107: DeprecationWarning: Using or importing the ABCs from 'collections' instead of from 'collections.abc' is deprecated, and in 3.8 it will stop working\n",
      "  from collections import MutableMapping\n",
      "/opt/conda/envs/python35-paddle120-env/lib/python3.7/site-packages/matplotlib/rcsetup.py:20: DeprecationWarning: Using or importing the ABCs from 'collections' instead of from 'collections.abc' is deprecated, and in 3.8 it will stop working\n",
      "  from collections import Iterable, Mapping\n",
      "/opt/conda/envs/python35-paddle120-env/lib/python3.7/site-packages/matplotlib/colors.py:53: DeprecationWarning: Using or importing the ABCs from 'collections' instead of from 'collections.abc' is deprecated, and in 3.8 it will stop working\n",
      "  from collections import Sized\n"
     ]
    },
    {
     "name": "stdout",
     "output_type": "stream",
     "text": [
      "样本: glass490.jpg,被预测为:plastic\n"
     ]
    },
    {
     "name": "stderr",
     "output_type": "stream",
     "text": [
      "/opt/conda/envs/python35-paddle120-env/lib/python3.7/site-packages/matplotlib/cbook/__init__.py:2349: DeprecationWarning: Using or importing the ABCs from 'collections' instead of from 'collections.abc' is deprecated, and in 3.8 it will stop working\n",
      "  if isinstance(obj, collections.Iterator):\n",
      "/opt/conda/envs/python35-paddle120-env/lib/python3.7/site-packages/matplotlib/cbook/__init__.py:2366: DeprecationWarning: Using or importing the ABCs from 'collections' instead of from 'collections.abc' is deprecated, and in 3.8 it will stop working\n",
      "  return list(data) if isinstance(data, collections.MappingView) else data\n"
     ]
    },
    {
     "data": {
      "text/plain": [
       "<Figure size 640x480 with 1 Axes>"
      ]
     },
     "metadata": {},
     "output_type": "display_data"
    },
    {
     "name": "stdout",
     "output_type": "stream",
     "text": [
      "样本: glass212.jpg,被预测为: glass\n"
     ]
    },
    {
     "data": {
      "text/plain": [
       "<Figure size 640x480 with 1 Axes>"
      ]
     },
     "metadata": {},
     "output_type": "display_data"
    },
    {
     "name": "stdout",
     "output_type": "stream",
     "text": [
      "样本: glass138.jpg,被预测为: glass\n"
     ]
    },
    {
     "data": {
      "text/plain": [
       "<Figure size 640x480 with 1 Axes>"
      ]
     },
     "metadata": {},
     "output_type": "display_data"
    },
    {
     "name": "stdout",
     "output_type": "stream",
     "text": [
      "样本: glass412.jpg,被预测为:plastic\n"
     ]
    },
    {
     "data": {
      "text/plain": [
       "<Figure size 640x480 with 1 Axes>"
      ]
     },
     "metadata": {},
     "output_type": "display_data"
    },
    {
     "name": "stdout",
     "output_type": "stream",
     "text": [
      "样本: glass24.jpg,被预测为:plastic\n"
     ]
    },
    {
     "data": {
      "text/plain": [
       "<Figure size 640x480 with 1 Axes>"
      ]
     },
     "metadata": {},
     "output_type": "display_data"
    },
    {
     "name": "stdout",
     "output_type": "stream",
     "text": [
      "样本: glass222.jpg,被预测为:plastic\n"
     ]
    },
    {
     "data": {
      "text/plain": [
       "<Figure size 640x480 with 1 Axes>"
      ]
     },
     "metadata": {},
     "output_type": "display_data"
    },
    {
     "name": "stdout",
     "output_type": "stream",
     "text": [
      "样本: glass330.jpg,被预测为: glass\n"
     ]
    },
    {
     "data": {
      "text/plain": [
       "<Figure size 640x480 with 1 Axes>"
      ]
     },
     "metadata": {},
     "output_type": "display_data"
    },
    {
     "name": "stdout",
     "output_type": "stream",
     "text": [
      "样本: glass57.jpg,被预测为: glass\n"
     ]
    },
    {
     "data": {
      "text/plain": [
       "<Figure size 640x480 with 1 Axes>"
      ]
     },
     "metadata": {},
     "output_type": "display_data"
    },
    {
     "name": "stdout",
     "output_type": "stream",
     "text": [
      "样本: glass90.jpg,被预测为: glass\n"
     ]
    },
    {
     "data": {
      "text/plain": [
       "<Figure size 640x480 with 1 Axes>"
      ]
     },
     "metadata": {},
     "output_type": "display_data"
    },
    {
     "name": "stdout",
     "output_type": "stream",
     "text": [
      "样本: glass221.jpg,被预测为:cardboard\n"
     ]
    },
    {
     "data": {
      "text/plain": [
       "<Figure size 640x480 with 1 Axes>"
      ]
     },
     "metadata": {},
     "output_type": "display_data"
    },
    {
     "name": "stdout",
     "output_type": "stream",
     "text": [
      "样本: glass348.jpg,被预测为:plastic\n"
     ]
    },
    {
     "data": {
      "text/plain": [
       "<Figure size 640x480 with 1 Axes>"
      ]
     },
     "metadata": {},
     "output_type": "display_data"
    },
    {
     "name": "stdout",
     "output_type": "stream",
     "text": [
      "样本: glass349.jpg,被预测为:paper\n"
     ]
    },
    {
     "data": {
      "text/plain": [
       "<Figure size 640x480 with 1 Axes>"
      ]
     },
     "metadata": {},
     "output_type": "display_data"
    },
    {
     "name": "stdout",
     "output_type": "stream",
     "text": [
      "样本: glass418.jpg,被预测为: glass\n"
     ]
    },
    {
     "data": {
      "text/plain": [
       "<Figure size 640x480 with 1 Axes>"
      ]
     },
     "metadata": {},
     "output_type": "display_data"
    },
    {
     "name": "stdout",
     "output_type": "stream",
     "text": [
      "样本: glass195.jpg,被预测为: glass\n"
     ]
    },
    {
     "data": {
      "text/plain": [
       "<Figure size 640x480 with 1 Axes>"
      ]
     },
     "metadata": {},
     "output_type": "display_data"
    },
    {
     "name": "stdout",
     "output_type": "stream",
     "text": [
      "样本: glass365.jpg,被预测为:plastic\n"
     ]
    },
    {
     "data": {
      "text/plain": [
       "<Figure size 640x480 with 1 Axes>"
      ]
     },
     "metadata": {},
     "output_type": "display_data"
    },
    {
     "name": "stdout",
     "output_type": "stream",
     "text": [
      "样本: glass477.jpg,被预测为:plastic\n"
     ]
    },
    {
     "data": {
      "text/plain": [
       "<Figure size 640x480 with 1 Axes>"
      ]
     },
     "metadata": {},
     "output_type": "display_data"
    },
    {
     "name": "stdout",
     "output_type": "stream",
     "text": [
      "样本: glass8.jpg,被预测为:plastic\n"
     ]
    },
    {
     "data": {
      "text/plain": [
       "<Figure size 640x480 with 1 Axes>"
      ]
     },
     "metadata": {},
     "output_type": "display_data"
    },
    {
     "name": "stdout",
     "output_type": "stream",
     "text": [
      "样本: glass465.jpg,被预测为: glass\n"
     ]
    },
    {
     "data": {
      "text/plain": [
       "<Figure size 640x480 with 1 Axes>"
      ]
     },
     "metadata": {},
     "output_type": "display_data"
    },
    {
     "name": "stdout",
     "output_type": "stream",
     "text": [
      "样本: glass95.jpg,被预测为:plastic\n"
     ]
    },
    {
     "data": {
      "text/plain": [
       "<Figure size 640x480 with 1 Axes>"
      ]
     },
     "metadata": {},
     "output_type": "display_data"
    },
    {
     "name": "stdout",
     "output_type": "stream",
     "text": [
      "样本: glass191.jpg,被预测为: glass\n"
     ]
    },
    {
     "data": {
      "text/plain": [
       "<Figure size 640x480 with 1 Axes>"
      ]
     },
     "metadata": {},
     "output_type": "display_data"
    },
    {
     "name": "stdout",
     "output_type": "stream",
     "text": [
      "样本: glass403.jpg,被预测为:paper\n"
     ]
    },
    {
     "data": {
      "text/plain": [
       "<Figure size 640x480 with 1 Axes>"
      ]
     },
     "metadata": {},
     "output_type": "display_data"
    },
    {
     "name": "stdout",
     "output_type": "stream",
     "text": [
      "样本: glass75.jpg,被预测为: glass\n"
     ]
    },
    {
     "data": {
      "text/plain": [
       "<Figure size 640x480 with 1 Axes>"
      ]
     },
     "metadata": {},
     "output_type": "display_data"
    },
    {
     "name": "stdout",
     "output_type": "stream",
     "text": [
      "样本: glass192.jpg,被预测为: glass\n"
     ]
    },
    {
     "data": {
      "text/plain": [
       "<Figure size 640x480 with 1 Axes>"
      ]
     },
     "metadata": {},
     "output_type": "display_data"
    },
    {
     "name": "stdout",
     "output_type": "stream",
     "text": [
      "样本: glass353.jpg,被预测为: glass\n"
     ]
    },
    {
     "data": {
      "text/plain": [
       "<Figure size 640x480 with 1 Axes>"
      ]
     },
     "metadata": {},
     "output_type": "display_data"
    },
    {
     "name": "stdout",
     "output_type": "stream",
     "text": [
      "样本: glass26.jpg,被预测为: glass\n"
     ]
    },
    {
     "data": {
      "text/plain": [
       "<Figure size 640x480 with 1 Axes>"
      ]
     },
     "metadata": {},
     "output_type": "display_data"
    },
    {
     "name": "stdout",
     "output_type": "stream",
     "text": [
      "样本: glass432.jpg,被预测为: glass\n"
     ]
    },
    {
     "data": {
      "text/plain": [
       "<Figure size 640x480 with 1 Axes>"
      ]
     },
     "metadata": {},
     "output_type": "display_data"
    },
    {
     "name": "stdout",
     "output_type": "stream",
     "text": [
      "样本: glass169.jpg,被预测为: glass\n"
     ]
    },
    {
     "data": {
      "text/plain": [
       "<Figure size 640x480 with 1 Axes>"
      ]
     },
     "metadata": {},
     "output_type": "display_data"
    },
    {
     "name": "stdout",
     "output_type": "stream",
     "text": [
      "样本: glass448.jpg,被预测为: glass\n"
     ]
    },
    {
     "data": {
      "text/plain": [
       "<Figure size 640x480 with 1 Axes>"
      ]
     },
     "metadata": {},
     "output_type": "display_data"
    },
    {
     "name": "stdout",
     "output_type": "stream",
     "text": [
      "样本: glass474.jpg,被预测为: glass\n"
     ]
    },
    {
     "data": {
      "text/plain": [
       "<Figure size 640x480 with 1 Axes>"
      ]
     },
     "metadata": {},
     "output_type": "display_data"
    },
    {
     "name": "stdout",
     "output_type": "stream",
     "text": [
      "样本: glass250.jpg,被预测为:plastic\n"
     ]
    },
    {
     "data": {
      "text/plain": [
       "<Figure size 640x480 with 1 Axes>"
      ]
     },
     "metadata": {},
     "output_type": "display_data"
    },
    {
     "name": "stdout",
     "output_type": "stream",
     "text": [
      "样本: glass189.jpg,被预测为:plastic\n"
     ]
    },
    {
     "data": {
      "text/plain": [
       "<Figure size 640x480 with 1 Axes>"
      ]
     },
     "metadata": {},
     "output_type": "display_data"
    },
    {
     "name": "stdout",
     "output_type": "stream",
     "text": [
      "样本: glass464.jpg,被预测为: glass\n"
     ]
    },
    {
     "data": {
      "text/plain": [
       "<Figure size 640x480 with 1 Axes>"
      ]
     },
     "metadata": {},
     "output_type": "display_data"
    },
    {
     "name": "stdout",
     "output_type": "stream",
     "text": [
      "样本: glass39.jpg,被预测为: glass\n"
     ]
    },
    {
     "data": {
      "text/plain": [
       "<Figure size 640x480 with 1 Axes>"
      ]
     },
     "metadata": {},
     "output_type": "display_data"
    },
    {
     "name": "stdout",
     "output_type": "stream",
     "text": [
      "样本: glass357.jpg,被预测为: glass\n"
     ]
    },
    {
     "data": {
      "text/plain": [
       "<Figure size 640x480 with 1 Axes>"
      ]
     },
     "metadata": {},
     "output_type": "display_data"
    },
    {
     "name": "stdout",
     "output_type": "stream",
     "text": [
      "样本: glass190.jpg,被预测为: glass\n"
     ]
    },
    {
     "data": {
      "text/plain": [
       "<Figure size 640x480 with 1 Axes>"
      ]
     },
     "metadata": {},
     "output_type": "display_data"
    },
    {
     "name": "stdout",
     "output_type": "stream",
     "text": [
      "样本: glass43.jpg,被预测为: glass\n"
     ]
    },
    {
     "data": {
      "text/plain": [
       "<Figure size 640x480 with 1 Axes>"
      ]
     },
     "metadata": {},
     "output_type": "display_data"
    },
    {
     "name": "stdout",
     "output_type": "stream",
     "text": [
      "样本: glass229.jpg,被预测为: glass\n"
     ]
    },
    {
     "data": {
      "text/plain": [
       "<Figure size 640x480 with 1 Axes>"
      ]
     },
     "metadata": {},
     "output_type": "display_data"
    },
    {
     "name": "stdout",
     "output_type": "stream",
     "text": [
      "样本: glass82.jpg,被预测为: glass\n"
     ]
    },
    {
     "data": {
      "text/plain": [
       "<Figure size 640x480 with 1 Axes>"
      ]
     },
     "metadata": {},
     "output_type": "display_data"
    },
    {
     "name": "stdout",
     "output_type": "stream",
     "text": [
      "样本: glass396.jpg,被预测为:paper\n"
     ]
    },
    {
     "data": {
      "text/plain": [
       "<Figure size 640x480 with 1 Axes>"
      ]
     },
     "metadata": {},
     "output_type": "display_data"
    },
    {
     "name": "stdout",
     "output_type": "stream",
     "text": [
      "样本: glass211.jpg,被预测为: glass\n"
     ]
    },
    {
     "data": {
      "text/plain": [
       "<Figure size 640x480 with 1 Axes>"
      ]
     },
     "metadata": {},
     "output_type": "display_data"
    },
    {
     "name": "stdout",
     "output_type": "stream",
     "text": [
      "样本: glass49.jpg,被预测为: glass\n"
     ]
    },
    {
     "data": {
      "text/plain": [
       "<Figure size 640x480 with 1 Axes>"
      ]
     },
     "metadata": {},
     "output_type": "display_data"
    },
    {
     "name": "stdout",
     "output_type": "stream",
     "text": [
      "样本: glass263.jpg,被预测为:plastic\n"
     ]
    },
    {
     "data": {
      "text/plain": [
       "<Figure size 640x480 with 1 Axes>"
      ]
     },
     "metadata": {},
     "output_type": "display_data"
    },
    {
     "name": "stdout",
     "output_type": "stream",
     "text": [
      "样本: glass244.jpg,被预测为:plastic\n"
     ]
    },
    {
     "data": {
      "text/plain": [
       "<Figure size 640x480 with 1 Axes>"
      ]
     },
     "metadata": {},
     "output_type": "display_data"
    },
    {
     "name": "stdout",
     "output_type": "stream",
     "text": [
      "样本: glass492.jpg,被预测为:plastic\n"
     ]
    },
    {
     "data": {
      "text/plain": [
       "<Figure size 640x480 with 1 Axes>"
      ]
     },
     "metadata": {},
     "output_type": "display_data"
    },
    {
     "name": "stdout",
     "output_type": "stream",
     "text": [
      "样本: glass466.jpg,被预测为:paper\n"
     ]
    },
    {
     "data": {
      "text/plain": [
       "<Figure size 640x480 with 1 Axes>"
      ]
     },
     "metadata": {},
     "output_type": "display_data"
    },
    {
     "name": "stdout",
     "output_type": "stream",
     "text": [
      "样本: glass262.jpg,被预测为:cardboard\n"
     ]
    },
    {
     "data": {
      "text/plain": [
       "<Figure size 640x480 with 1 Axes>"
      ]
     },
     "metadata": {},
     "output_type": "display_data"
    },
    {
     "name": "stdout",
     "output_type": "stream",
     "text": [
      "样本: glass20.jpg,被预测为: glass\n"
     ]
    },
    {
     "data": {
      "text/plain": [
       "<Figure size 640x480 with 1 Axes>"
      ]
     },
     "metadata": {},
     "output_type": "display_data"
    },
    {
     "name": "stdout",
     "output_type": "stream",
     "text": [
      "样本: glass355.jpg,被预测为:plastic\n"
     ]
    },
    {
     "data": {
      "text/plain": [
       "<Figure size 640x480 with 1 Axes>"
      ]
     },
     "metadata": {},
     "output_type": "display_data"
    },
    {
     "name": "stdout",
     "output_type": "stream",
     "text": [
      "样本: glass182.jpg,被预测为:plastic\n"
     ]
    },
    {
     "data": {
      "text/plain": [
       "<Figure size 640x480 with 1 Axes>"
      ]
     },
     "metadata": {},
     "output_type": "display_data"
    },
    {
     "name": "stdout",
     "output_type": "stream",
     "text": [
      "样本: glass279.jpg,被预测为: glass\n"
     ]
    },
    {
     "data": {
      "text/plain": [
       "<Figure size 640x480 with 1 Axes>"
      ]
     },
     "metadata": {},
     "output_type": "display_data"
    }
   ],
   "source": [
    "import time\r\n",
    "import sys\r\n",
    "from PIL import Image\r\n",
    "import matplotlib.pyplot as plt\r\n",
    "# 加载训练过程保存的最后一个模型\r\n",
    "model__state_dict = paddle.load('work/best_model1.pdparams')\r\n",
    "model_predict = mobilevit_s()\r\n",
    "model_predict.set_state_dict(model__state_dict) \r\n",
    "model_predict.eval()\r\n",
    "infer_imgs_path = os.listdir('work/laji/Garbage_classification/test/glass')\r\n",
    "# print(infer_imgs_path)\r\n",
    "\r\n",
    "label_dic={'0': 'cardboard', '1': 'plastic', '2': 'metal', '3': 'paper','4':' glass','5':'trash'}\r\n",
    "\r\n",
    "def load_image(img_path):\r\n",
    "    '''\r\n",
    "    预测图片预处理\r\n",
    "    '''\r\n",
    "    img = Image.open(img_path) \r\n",
    "    if img.mode != 'RGB': \r\n",
    "        img = img.convert('RGB') \r\n",
    "    img = img.resize((256, 256), Image.BILINEAR)\r\n",
    "    img = np.array(img).astype('float32') \r\n",
    "    img = img.transpose((2, 0, 1)) / 255 # HWC to CHW 及归一化\r\n",
    "    return img\r\n",
    "\r\n",
    "# 预测所有图片\r\n",
    "for infer_img_path in infer_imgs_path:\r\n",
    "    infer_img = load_image('work/laji/Garbage_classification/test/glass/'+infer_img_path)\r\n",
    "    infer_img = infer_img[np.newaxis,:, : ,:]  #reshape(-1,3,224,224)\r\n",
    "    infer_img = paddle.to_tensor(infer_img)\r\n",
    "    result = model_predict(infer_img)\r\n",
    "    lab = np.argmax(result.numpy())\r\n",
    "    print(\"样本: {},被预测为:{}\".format(infer_img_path,label_dic[str(lab)]))\r\n",
    "    img = Image.open('work/laji/Garbage_classification/test/glass/'+infer_img_path)\r\n",
    "    plt.imshow(img)\r\n",
    "    plt.axis('off')\r\n",
    "    plt.show()\r\n",
    "    sys.stdout.flush()\r\n",
    "    time.sleep(0.5)"
   ]
  },
  {
   "cell_type": "markdown",
   "metadata": {
    "collapsed": false
   },
   "source": [
    "## **7.1测试模型效果**\n",
    "\n",
    "可以看到预测预测效果还是挺好的\n",
    "\n",
    "![](https://ai-studio-static-online.cdn.bcebos.com/7c6e19c826054d93af6a977cd04dbf306cbafd104dba4f1bb8a39f6e638d99c8)\n"
   ]
  },
  {
   "cell_type": "markdown",
   "metadata": {
    "collapsed": false
   },
   "source": [
    "# **总结与升华**\n",
    "\n",
    "分类模型Mobile-ViT实现一个垃圾分类检测即可完成，MobileViT：一种用于移动设备的轻量级通用视觉Transformer，据作者称，这是首个能比肩轻量级CNN网络性能的轻量级ViT工作，表现SOTA！性能优于MobileNetV3、CrossViT等网络。本次项目实质是属于一个6分类的问题。\n",
    "还有一些项目在实践时，遇到的问题可能是环境问题，后面会在本地再测试下。早期的遇到的问题就是自己对数据进行处理后送入网络，报图片尺寸、维度错误，debug后也找不到问题，然后fork原作者项目进行操作后就可以跑的通，具体之前问题出在哪儿，仍然需要进一步测试验证。"
   ]
  },
  {
   "cell_type": "markdown",
   "metadata": {
    "collapsed": false
   },
   "source": [
    "# **参考项目：**\n",
    "\n",
    "[Mobile-ViT：改进的一种更小更轻精度更高的模型](https://aistudio.baidu.com/aistudio/projectdetail/2683037?channelType=0&channel=0)"
   ]
  },
  {
   "cell_type": "markdown",
   "metadata": {
    "collapsed": false
   },
   "source": [
    "# **关于作者**\n",
    "\n",
    ">- [个人主页](https://aistudio.baidu.com/aistudio/personalcenter/thirdview/1032881)\n",
    "\n",
    ">- 感兴趣的方向为：目标检测，图像分类，图像分割等。\n",
    "\n",
    ">- 不定期更新感兴趣的CV比赛baseline等\n",
    "\n",
    ">- 个人荣誉：飞桨开发者青铜奖\n",
    "\n",
    ">- 欢迎大家有问题留言交流学习，共同进步成长。"
   ]
  }
 ],
 "metadata": {
  "kernelspec": {
   "display_name": "Python 3",
   "language": "python",
   "name": "py35-paddle1.2.0"
  },
  "language_info": {
   "codemirror_mode": {
    "name": "ipython",
    "version": 3
   },
   "file_extension": ".py",
   "mimetype": "text/x-python",
   "name": "python",
   "nbconvert_exporter": "python",
   "pygments_lexer": "ipython3",
   "version": "3.7.4"
  }
 },
 "nbformat": 4,
 "nbformat_minor": 1
}
